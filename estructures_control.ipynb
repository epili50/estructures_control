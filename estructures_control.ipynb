{
 "cells": [
  {
   "cell_type": "markdown",
   "id": "2838e142",
   "metadata": {},
   "source": [
    "# S02 T03: Estructura de control"
   ]
  },
  {
   "cell_type": "markdown",
   "id": "0f9b465b",
   "metadata": {},
   "source": [
    "## Nivel 1"
   ]
  },
  {
   "cell_type": "markdown",
   "id": "5d4bdebf",
   "metadata": {},
   "source": [
    "### Ejercicio 1"
   ]
  },
  {
   "cell_type": "code",
   "execution_count": 1,
   "id": "4b57c539",
   "metadata": {},
   "outputs": [
    {
     "name": "stdout",
     "output_type": "stream",
     "text": [
      "Has obtenido un: Suspendido\n",
      "Has obtenido un: Aprobado\n",
      "Has obtenido un: Notable\n",
      "Has obtenido un: Excelente\n",
      "Has obtenido un: Error. Indique una nota válida\n"
     ]
    }
   ],
   "source": [
    "def escala (nota):\n",
    "    if nota < 5:\n",
    "        return \"Suspendido\"\n",
    "    elif nota < 7:\n",
    "        return \"Aprobado\"\n",
    "    elif nota < 9:\n",
    "        return \"Notable\"\n",
    "    elif nota <= 10:\n",
    "        return \"Excelente\"\n",
    "    else:\n",
    "        return \"Error. Indique una nota válida\"\n",
    "\n",
    "print(\"Has obtenido un:\", escala(4))\n",
    "print(\"Has obtenido un:\", escala(5.5))\n",
    "print(\"Has obtenido un:\", escala(8))\n",
    "print(\"Has obtenido un:\", escala(10))\n",
    "print(\"Has obtenido un:\", escala(15))\n",
    "\n",
    "\n",
    "    "
   ]
  },
  {
   "cell_type": "markdown",
   "id": "3d32070d",
   "metadata": {},
   "source": [
    "### Ejercicio 2"
   ]
  },
  {
   "cell_type": "code",
   "execution_count": 2,
   "id": "7974e86f",
   "metadata": {},
   "outputs": [
    {
     "name": "stdout",
     "output_type": "stream",
     "text": [
      "Indique un número:3\n",
      "Indique otro número:6\n",
      "El segundo número ingresado en más grande\n"
     ]
    }
   ],
   "source": [
    "num1 = input(\"Indique un número:\")\n",
    "num2 = input(\"Indique otro número:\")\n",
    "\n",
    "def comparative (num1, num2):\n",
    "    if num1 > num2:\n",
    "        print(\"El primer número ingresado en más grande\")\n",
    "    elif num1 < num2:\n",
    "        print(\"El segundo número ingresado en más grande\")\n",
    "    elif num1 == num2:\n",
    "        print(\"Ambos número elegidos son iguales\")\n",
    "        \n",
    "comparative(num1, num2)\n",
    "        \n",
    "\n"
   ]
  },
  {
   "cell_type": "markdown",
   "id": "13ecb528",
   "metadata": {},
   "source": [
    "### Ejercicio 3"
   ]
  },
  {
   "cell_type": "code",
   "execution_count": 3,
   "id": "c8b8ffe3",
   "metadata": {
    "scrolled": true
   },
   "outputs": [
    {
     "name": "stdout",
     "output_type": "stream",
     "text": [
      "Indique su nombre Pedro\n",
      "Indique un número 5\n",
      "Pedro Pedro Pedro Pedro Pedro \n"
     ]
    }
   ],
   "source": [
    "nombre = input(\"Indique su nombre \")\n",
    "num = input(\"Indique un número \")\n",
    "\n",
    "def repiteNombre(nombre, num):\n",
    "    if int(num) == 0:\n",
    "        print(\"Error, indique un número correcto\")\n",
    "    else:\n",
    "        print((nombre + \" \") * int(num))\n",
    "        \n",
    "repiteNombre(nombre, num)"
   ]
  },
  {
   "cell_type": "markdown",
   "id": "fc2b36fd",
   "metadata": {},
   "source": [
    "### Ejercicio 4"
   ]
  },
  {
   "cell_type": "code",
   "execution_count": 4,
   "id": "d91776a1",
   "metadata": {},
   "outputs": [
    {
     "name": "stdout",
     "output_type": "stream",
     "text": [
      "La lista es simétrica y tiene 6 elementos\n",
      "La lista no es simétrica\n"
     ]
    }
   ],
   "source": [
    "lista = [4, 5, 6, 6, 5, 4]\n",
    "lista2= [4, 5, 9, 2]\n",
    "\n",
    "#print(lista, listaReves)\n",
    "#lista == lista.reverse()\n",
    "def simetrica(lista):\n",
    "    if lista == list(reversed(lista)):\n",
    "        print(\"La lista es simétrica y tiene\", len(lista), \"elementos\")\n",
    "    else:\n",
    "        print(\"La lista no es simétrica\")\n",
    "\n",
    "simetrica(lista)\n",
    "simetrica(lista2)"
   ]
  },
  {
   "cell_type": "markdown",
   "id": "68b6859e",
   "metadata": {},
   "source": [
    "### Ejercicio 5"
   ]
  },
  {
   "cell_type": "code",
   "execution_count": 4,
   "id": "62fa6da6",
   "metadata": {},
   "outputs": [
    {
     "name": "stdout",
     "output_type": "stream",
     "text": [
      "3\n",
      "3\n",
      "5\n",
      "3\n"
     ]
    }
   ],
   "source": [
    "array = [0, 1, 4, 3, 8, 7]\n",
    "array2 = [0, 3, 7, 8, 4, 5, 9]\n",
    "array3 = [0, 1, 2, 3, 4]\n",
    "array4 = [0, 3, 5, 5, 4, 5, 9]\n",
    "\n",
    "#print(array4.index(5))\n",
    "\n",
    "def coincide(array):\n",
    "    nroCoincide = 0\n",
    "    for i in range(len(array)):\n",
    "        if i == array[i]:\n",
    "            nroCoincide += 1\n",
    "            \n",
    "    \n",
    "    print(nroCoincide)\n",
    "    \n",
    "\n",
    "   \n",
    "   \n",
    "\n",
    "coincide(array)\n",
    "coincide(array2)\n",
    "coincide(array3)\n",
    "coincide(array4)"
   ]
  },
  {
   "cell_type": "code",
   "execution_count": null,
   "id": "3635c9c1",
   "metadata": {},
   "outputs": [],
   "source": []
  }
 ],
 "metadata": {
  "hide_input": false,
  "kernelspec": {
   "display_name": "Python 3 (ipykernel)",
   "language": "python",
   "name": "python3"
  },
  "language_info": {
   "codemirror_mode": {
    "name": "ipython",
    "version": 3
   },
   "file_extension": ".py",
   "mimetype": "text/x-python",
   "name": "python",
   "nbconvert_exporter": "python",
   "pygments_lexer": "ipython3",
   "version": "3.9.7"
  },
  "nbTranslate": {
   "displayLangs": [
    "*"
   ],
   "hotkey": "alt-t",
   "langInMainMenu": true,
   "sourceLang": "en",
   "targetLang": "fr",
   "useGoogleTranslate": true
  },
  "toc": {
   "base_numbering": 1,
   "nav_menu": {},
   "number_sections": true,
   "sideBar": true,
   "skip_h1_title": false,
   "title_cell": "Table of Contents",
   "title_sidebar": "Contents",
   "toc_cell": false,
   "toc_position": {},
   "toc_section_display": true,
   "toc_window_display": false
  },
  "varInspector": {
   "cols": {
    "lenName": 16,
    "lenType": 16,
    "lenVar": 40
   },
   "kernels_config": {
    "python": {
     "delete_cmd_postfix": "",
     "delete_cmd_prefix": "del ",
     "library": "var_list.py",
     "varRefreshCmd": "print(var_dic_list())"
    },
    "r": {
     "delete_cmd_postfix": ") ",
     "delete_cmd_prefix": "rm(",
     "library": "var_list.r",
     "varRefreshCmd": "cat(var_dic_list()) "
    }
   },
   "types_to_exclude": [
    "module",
    "function",
    "builtin_function_or_method",
    "instance",
    "_Feature"
   ],
   "window_display": false
  }
 },
 "nbformat": 4,
 "nbformat_minor": 5
}
